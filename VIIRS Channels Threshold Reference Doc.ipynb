{
 "cells": [
  {
   "cell_type": "markdown",
   "metadata": {},
   "source": [
    "This is a reference document for understanding the differences between the bright_ti4 and bright_ti5 channels and what values may be inadequate in the dataset based on how these spectral channels function. \n",
    "\n",
    "I used [this 2016 document](https://viirsland.gsfc.nasa.gov/PDF/VIIRS_activefire_375m_ATBD.pdf) and [this 2024 document](https://www.earthdata.nasa.gov/s3fs-public/2024-07/VIIRS_C2_AF-375m_User_Guide_1.0.pdf) to compile this information."
   ]
  },
  {
   "cell_type": "markdown",
   "metadata": {},
   "source": [
    "#### From the 2016 document:\n",
    "\n",
    "Given the unique spatial and spectral resolution of the data, the fire detection algorithm was customized and tuned in order to optimize its response over small fires while balancing the occurrence of false alarms. Frequent saturation of the mid- infrared I4 channel driving the detection of active fires demands additional tests and procedures in order to avoid pixel classification errors. Pixel saturation occurs most\n",
    "often over large and/or intense heat sources (e.g., wildfires) and is typically identified in the input data with the use of the companion quality flag. Under more extreme conditions, very large active fires (e.g., crown fires) can greatly exceed the effective saturation temperature on channel I4 leading to a complete folding of the digital number (DN) associated with the affected pixel. Application of the normal calibration parameters to those anomalous DN values results in abnormally cold brightness temperature values equal to or near the low end of that channel’s dynamic range (208 K). The companion quality flags may also be used to properly identify and process those pixels. A third and more challenging scenario describing channel I4 saturation involves the mixing of saturated and unsaturated data during onboard aggregation. Such occurrences result in artificially low brightness temperatures accompanied by nominal quality flags for the affected pixels. Under those conditions, complementary channel I5 data may be used to try and identify the corrupted channel I4 pixels. Overall, the low (≈358 K) effective saturation temperature on channel I4 results in ≈9% discernable fire pixel saturation rate associated with all three scenarios above (in addition to a yet unknown percentage of more subtle and therefore indistinguishable saturation). Consequently, sub-pixel fire characterization should be avoided in that channel. That limitation is addressed in the product with the use of co-located M13 dual-gain channel data. The combination of higher (≈659 K) saturation temperature and lower spatial resolution results in extremely rare pixel saturation occurrence in the M13 data making it suitable for such application"
   ]
  },
  {
   "cell_type": "markdown",
   "metadata": {},
   "source": [
    "#### From the 2024 document:\n",
    "\n",
    "Q: How often do fire pixels saturate the 375 m mid-infrared (I4) channel?\n",
    "\n",
    "A: Quite often. There are three main scenarios associated with saturated pixels in the I4 mid- infrared channel used in the VNP14IMG active fire detection algorithm. First there is the typical saturation condition in which the pixel is assigned the nominal saturation temperature of 367 K. The second scenario involves the more extreme case when the fire signal will greatly exceed the dynamic range of channel I4. In that case, the pixel’s digital number will fold over and show an abnormally low temperature that can be identified using the companion long-wave infrared (channel I5) signal. The third and last scenario is the more challenging one. It represents those cases when native pixels that reach saturation are mixed with other non-saturated pixels during on- board data aggregation resulting in spurious Level 1 radiances. Currently, there are no quality flags available in the input Level 1 data indicating these spurious radiance values. The different saturation scenarios above are believed to have small/negligible effect on the fire detection performance. However, their occurrence is a major factor limiting the retrieval of sub-pixel fire characteristics (FRP) using the I4 channel."
   ]
  },
  {
   "cell_type": "markdown",
   "metadata": {},
   "source": [
    "#### Summary:\n",
    "\n",
    "- Normal saturation of the bright_ti4 channel occurs around 367 K\n",
    "- Extreme saturation will result in a value of approximately 208 K (the low end of the channel's brightness detection)\n",
    "- In the case that the value for bright_ti4 is ~208 K, the bright_ti5 channel should be used\n",
    "- The bright_ti5 channel has a saturation temperature of ~ 659 K"
   ]
  }
 ],
 "metadata": {
  "kernelspec": {
   "display_name": "ds3000",
   "language": "python",
   "name": "python3"
  },
  "language_info": {
   "name": "python",
   "version": "3.12.2"
  }
 },
 "nbformat": 4,
 "nbformat_minor": 2
}
