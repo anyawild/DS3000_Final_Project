{
 "cells": [
  {
   "cell_type": "markdown",
   "id": "25a972b8-b9c6-4cee-8a2b-e3b659845b07",
   "metadata": {},
   "source": [
    "## Models to make:\n",
    "\n",
    "- Correlation heat map\n",
    "- Trend analysis (how different features line up on a scatter plot?)\n",
    "- Linear regression - use principle component analysis (PCA) to enhance"
   ]
  },
  {
   "cell_type": "markdown",
   "id": "9436a8bf-fc60-4ce9-b7f7-4fa9e6805af8",
   "metadata": {},
   "source": [
    "Phase 2: \n",
    "\n",
    "- Github respository\n",
    "- Identifying features we are going to keep (do it in code... show why you are keeping certain features and dropping others)\n",
    "- Converting\n",
    "- df.describe() (how are the features are different in size)\n",
    "- Group by satellite (terra/aqua) and see which one is better at capturing certain features\n",
    "- Plotting (time-series model or correlation heat map)\n",
    "- Maybe plot graphs on an actual map of the US/Europe\n",
    "- Geo JSON (folium python package)"
   ]
  },
  {
   "cell_type": "code",
   "execution_count": null,
   "id": "91040773-b1ac-4135-9de1-96748834baea",
   "metadata": {},
   "outputs": [],
   "source": []
  }
 ],
 "metadata": {
  "kernelspec": {
   "display_name": "Python 3 (ipykernel)",
   "language": "python",
   "name": "python3"
  },
  "language_info": {
   "codemirror_mode": {
    "name": "ipython",
    "version": 3
   },
   "file_extension": ".py",
   "mimetype": "text/x-python",
   "name": "python",
   "nbconvert_exporter": "python",
   "pygments_lexer": "ipython3",
   "version": "3.12.2"
  }
 },
 "nbformat": 4,
 "nbformat_minor": 5
}
