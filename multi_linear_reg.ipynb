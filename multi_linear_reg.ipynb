{
 "cells": [
  {
   "cell_type": "markdown",
   "metadata": {},
   "source": [
    "### Polynomial Linear Regression"
   ]
  },
  {
   "cell_type": "code",
   "execution_count": 190,
   "metadata": {},
   "outputs": [],
   "source": [
    "import numpy as np\n",
    "import pandas as pd\n",
    "import matplotlib.pyplot as plt\n",
    "from sklearn.preprocessing import PolynomialFeatures\n",
    "import seaborn as sns"
   ]
  },
  {
   "cell_type": "code",
   "execution_count": 191,
   "metadata": {},
   "outputs": [
    {
     "data": {
      "text/plain": [
       "134.9"
      ]
     },
     "execution_count": 191,
     "metadata": {},
     "output_type": "execute_result"
    }
   ],
   "source": [
    "euro_c_df_clean = pd.read_csv('euro_c_df_clean.csv')\n",
    "\n",
    "# remove observations with frp greater than ______\n",
    "# outlier_indices = euro_c_df_clean[(euro_c_df_clean['frp'] 208)].index\n",
    "# euro_c_df_clean = euro_c_df_clean.drop(index=outlier_indices)\n",
    "\n",
    "\n",
    "euro_c_df_clean['frp'].max()"
   ]
  },
  {
   "cell_type": "code",
   "execution_count": 192,
   "metadata": {},
   "outputs": [
    {
     "data": {
      "text/plain": [
       "-0.6264380367467925"
      ]
     },
     "execution_count": 192,
     "metadata": {},
     "output_type": "execute_result"
    }
   ],
   "source": [
    "# date -> days since\n",
    "date = euro_c_df_clean['acq_date']\n",
    "x_datetime = pd.to_datetime(date)\n",
    "reference_date = pd.Timestamp(date.min())       # earliest date, '2020-03-01'\n",
    "x_timedelta = x_datetime - reference_date\n",
    "# number of days between data collection and reference date\n",
    "x_days = x_timedelta.dt.days\n",
    "\n",
    "# scale data\n",
    "x_days = (x_days - x_days.mean())/x_days.std()\n",
    "x_days = x_days.to_numpy()\n",
    "frp=euro_c_df_clean['frp'].to_numpy()\n",
    "frp = (frp - frp.mean())/frp.std()\n",
    "lat = euro_c_df_clean['latitude'].to_numpy()\n",
    "long = euro_c_df_clean['longitude'].to_numpy()\n",
    "lat = ((lat - lat.mean())/lat.std())\n",
    "long = ((long - long.mean())/long.std())\n",
    "\n",
    "y = frp      # y: frp\n",
    "min(y)\n"
   ]
  },
  {
   "cell_type": "code",
   "execution_count": 202,
   "metadata": {},
   "outputs": [
    {
     "data": {
      "text/plain": [
       "array([[ 1.00000000e+00,  1.50561775e-06, -2.96681612e-08,\n",
       "        -4.46689100e-14, -3.96115171e+00],\n",
       "       [ 1.00000000e+00,  1.00918494e-05, -4.36714032e-10,\n",
       "        -4.40725222e-15, -3.96115171e+00],\n",
       "       [ 1.00000000e+00,  1.01171530e-05, -4.39001606e-10,\n",
       "        -4.44144639e-15, -3.96115171e+00],\n",
       "       ...,\n",
       "       [ 1.00000000e+00,  2.14932386e+01,  2.87406227e-01,\n",
       "         6.17729059e+00,  2.71717412e+00],\n",
       "       [ 1.00000000e+00,  1.86851907e+01,  1.34822442e-03,\n",
       "         2.51918304e-02,  2.71717412e+00],\n",
       "       [ 1.00000000e+00,  2.14604700e+02,  4.14439179e+00,\n",
       "         8.89405959e+02,  6.95842977e+00]])"
      ]
     },
     "execution_count": 202,
     "metadata": {},
     "output_type": "execute_result"
    }
   ],
   "source": [
    "# lat, long, acq_date\n",
    "X2 = np.hstack([\n",
    "    np.ones((x_days.shape[0], 1)), \n",
    "    lat.reshape(-1, 1), \n",
    "    lat.reshape(-1, 1)**2,\n",
    "    lat.reshape(-1, 1)**3,\n",
    "    lat.reshape(-1, 1)**4,\n",
    "    lat.reshape(-1, 1)**5,\n",
    "    long.reshape(-1, 1), \n",
    "    long.reshape(-1, 1)**2,\n",
    "    long.reshape(-1, 1)**3,\n",
    "    long.reshape(-1, 1)**4, \n",
    "    long.reshape(-1, 1)**5,\n",
    "    (lat.reshape(-1, 1)*long.reshape(-1, 1)),\n",
    "    (lat.reshape(-1, 1)*long.reshape(-1, 1))**2,\n",
    "    (lat.reshape(-1, 1)*long.reshape(-1, 1))**3,\n",
    "    (lat.reshape(-1, 1)*long.reshape(-1, 1))**4,\n",
    "    (lat.reshape(-1, 1)*long.reshape(-1, 1))**5,\n",
    "    x_days.reshape(-1, 1),\n",
    "        x_days.reshape(-1, 1)**2,\n",
    "            x_days.reshape(-1, 1)*3,\n",
    "                x_days.reshape(-1, 1)**4,\n",
    "                    x_days.reshape(-1, 1)**5\n",
    "    ])\n",
    "X2"
   ]
  },
  {
   "cell_type": "code",
   "execution_count": 203,
   "metadata": {},
   "outputs": [
    {
     "name": "stdout",
     "output_type": "stream",
     "text": [
      "m:  [ 9.36380895e-03 -1.17771292e-03 -1.30930831e-05 -1.21491250e-05\n",
      " -2.88561077e-02]\n",
      "mse:  0.9940879424075594\n",
      "r^2:  0.005912057592440845\n"
     ]
    }
   ],
   "source": [
    "# use np math to find m\n",
    "m = np.matmul(np.linalg.inv(np.matmul(X2.T, X2)), np.matmul(X2.T, y))\n",
    "print('m: ', m)\n",
    "\n",
    "# calculate predicted y's, residuals, squared residuals, mse, and r^2\n",
    "ypreds = np.matmul(X2, m)\n",
    "resids = y - ypreds\n",
    "new_r = []\n",
    "for r in resids:\n",
    "    new_r.append(r**2)\n",
    "mse = sum(new_r) / len(new_r)\n",
    "print('mse: ', mse)\n",
    "r2 = 1 - (mse/y.var())\n",
    "print('r^2: ', r2)\n"
   ]
  },
  {
   "cell_type": "code",
   "execution_count": 195,
   "metadata": {},
   "outputs": [],
   "source": [
    "# # PLOTS - lat, long, acq_date\n",
    "# print(f'Best-fit line: y = {round(m[0], 3)} + {round(m[1], 3)}x + {round(m[2], 3)}x + {round(m[3], 3)}x')\n",
    "# n = ['lat', 'long', 'acq_date']\n",
    "# for i in range(len(X2)):\n",
    "#     x_plot = X2[:,i]\n",
    "#     plt.scatter(x=(x_plot), y=y, alpha=0.7, edgecolor='k')\n",
    "#     # plt.plot(x_plot, m[0] + m[1]*x_plot + m[2]*x_plot + m[3]*x_plot)\n",
    "#     # plt.title(f'{i} vs. frp', fontsize=14)\n",
    "#     # plt.xlabel(f'{i}', fontsize=12)\n",
    "#     # plt.ylabel('frp', fontsize=12)\n",
    "#     plt.grid(alpha=0.3)\n",
    "#     plt.show()"
   ]
  },
  {
   "cell_type": "code",
   "execution_count": 196,
   "metadata": {},
   "outputs": [],
   "source": [
    "# # index vs. residuals\n",
    "# plt.scatter(range(len(X2[:,1])), resids, alpha=0.5)\n",
    "# plt.xlabel('Index')\n",
    "# plt.ylabel('Residuals')\n",
    "# plt.title('Index vs. Residuals')\n",
    "# plt.show()"
   ]
  },
  {
   "cell_type": "code",
   "execution_count": 197,
   "metadata": {},
   "outputs": [],
   "source": [
    "# # histogram of residuals\n",
    "# sns.histplot(resids, kde=False)\n",
    "# plt.xlabel('Residuals')\n",
    "# plt.title('Histogram of residuals')\n",
    "# plt.show()"
   ]
  },
  {
   "cell_type": "code",
   "execution_count": null,
   "metadata": {},
   "outputs": [],
   "source": []
  }
 ],
 "metadata": {
  "kernelspec": {
   "display_name": "Python 3",
   "language": "python",
   "name": "python3"
  },
  "language_info": {
   "codemirror_mode": {
    "name": "ipython",
    "version": 3
   },
   "file_extension": ".py",
   "mimetype": "text/x-python",
   "name": "python",
   "nbconvert_exporter": "python",
   "pygments_lexer": "ipython3",
   "version": "3.12.4"
  }
 },
 "nbformat": 4,
 "nbformat_minor": 2
}
