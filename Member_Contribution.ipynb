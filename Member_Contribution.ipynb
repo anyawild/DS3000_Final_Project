{
 "cells": [
  {
   "cell_type": "markdown",
   "metadata": {},
   "source": [
    "## Project Proposal II Contribution:\n",
    "- Analysis plan copied from Proposal I\n",
    "- Data cleaning\n",
    "    - Scraped FIRMS website for country abbreviations in Europe\n",
    "    - Chose VIIRS instrument for better resolution\n",
    "    - Selected columns from aggregated data\n",
    "    - Filled empty values\n",
    "- Visualization 1:\n",
    "- Visualization 2:"
   ]
  }
 ],
 "metadata": {
  "language_info": {
   "name": "python"
  }
 },
 "nbformat": 4,
 "nbformat_minor": 2
}
