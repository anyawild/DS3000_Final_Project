{
 "cells": [
  {
   "cell_type": "markdown",
   "metadata": {},
   "source": [
    "## Project Proposal II Contribution:\n",
    "- Analysis plan copied from Proposal I\n",
    "- Data cleaning\n",
    "    - Scraped FIRMS website for country abbreviations in Europe\n",
    "    - Chose VIIRS instrument for better resolution\n",
    "    - Selected columns from aggregated data\n",
    "    - Filled empty values\n",
    "- Visualization 1:\n",
    "- Visualization 2:"
   ]
  },
  {
   "cell_type": "code",
   "execution_count": null,
   "metadata": {},
   "outputs": [],
   "source": []
  }
 ],
 "metadata": {
  "kernelspec": {
   "display_name": "Python 3",
   "language": "python",
   "name": "python3"
  },
  "language_info": {
   "name": "python",
   "version": "3.12.4"
  }
 },
 "nbformat": 4,
 "nbformat_minor": 2
}
