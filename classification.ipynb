{
 "cells": [
  {
   "cell_type": "code",
   "execution_count": null,
   "metadata": {},
   "outputs": [],
   "source": [
    "import numpy as np\n",
    "import pandas as pd\n",
    "import matplotlib.pyplot as plt\n",
    "from sklearn.model_selection import train_test_split\n",
    "from sklearn.linear_model import LogisticRegression\n",
    "from sklearn.preprocessing import StandardScaler\n",
    "from sklearn.metrics import confusion_matrix, ConfusionMatrixDisplay\n"
   ]
  },
  {
   "cell_type": "code",
   "execution_count": 154,
   "metadata": {},
   "outputs": [
    {
     "data": {
      "text/html": [
       "<div>\n",
       "<style scoped>\n",
       "    .dataframe tbody tr th:only-of-type {\n",
       "        vertical-align: middle;\n",
       "    }\n",
       "\n",
       "    .dataframe tbody tr th {\n",
       "        vertical-align: top;\n",
       "    }\n",
       "\n",
       "    .dataframe thead th {\n",
       "        text-align: right;\n",
       "    }\n",
       "</style>\n",
       "<table border=\"1\" class=\"dataframe\">\n",
       "  <thead>\n",
       "    <tr style=\"text-align: right;\">\n",
       "      <th></th>\n",
       "      <th>Unnamed: 0</th>\n",
       "      <th>country_id</th>\n",
       "      <th>latitude</th>\n",
       "      <th>longitude</th>\n",
       "      <th>bright_ti4</th>\n",
       "      <th>bright_ti5</th>\n",
       "      <th>scan</th>\n",
       "      <th>track</th>\n",
       "      <th>confidence</th>\n",
       "      <th>acq_date</th>\n",
       "      <th>acq_time</th>\n",
       "      <th>frp</th>\n",
       "      <th>daynight</th>\n",
       "    </tr>\n",
       "  </thead>\n",
       "  <tbody>\n",
       "    <tr>\n",
       "      <th>0</th>\n",
       "      <td>0</td>\n",
       "      <td>AUT</td>\n",
       "      <td>47.34311</td>\n",
       "      <td>9.62378</td>\n",
       "      <td>328.5</td>\n",
       "      <td>290.2</td>\n",
       "      <td>0.53</td>\n",
       "      <td>0.42</td>\n",
       "      <td>n</td>\n",
       "      <td>2020-03-01</td>\n",
       "      <td>1230</td>\n",
       "      <td>4.4</td>\n",
       "      <td>D</td>\n",
       "    </tr>\n",
       "    <tr>\n",
       "      <th>1</th>\n",
       "      <td>1</td>\n",
       "      <td>AUT</td>\n",
       "      <td>47.54527</td>\n",
       "      <td>9.78854</td>\n",
       "      <td>331.0</td>\n",
       "      <td>287.0</td>\n",
       "      <td>0.54</td>\n",
       "      <td>0.42</td>\n",
       "      <td>n</td>\n",
       "      <td>2020-03-01</td>\n",
       "      <td>1230</td>\n",
       "      <td>5.0</td>\n",
       "      <td>D</td>\n",
       "    </tr>\n",
       "    <tr>\n",
       "      <th>2</th>\n",
       "      <td>2</td>\n",
       "      <td>AUT</td>\n",
       "      <td>47.54559</td>\n",
       "      <td>9.78841</td>\n",
       "      <td>329.3</td>\n",
       "      <td>286.5</td>\n",
       "      <td>0.54</td>\n",
       "      <td>0.42</td>\n",
       "      <td>n</td>\n",
       "      <td>2020-03-01</td>\n",
       "      <td>1230</td>\n",
       "      <td>3.7</td>\n",
       "      <td>D</td>\n",
       "    </tr>\n",
       "    <tr>\n",
       "      <th>3</th>\n",
       "      <td>3</td>\n",
       "      <td>AUT</td>\n",
       "      <td>48.27758</td>\n",
       "      <td>14.34202</td>\n",
       "      <td>331.8</td>\n",
       "      <td>276.3</td>\n",
       "      <td>0.59</td>\n",
       "      <td>0.53</td>\n",
       "      <td>n</td>\n",
       "      <td>2020-03-01</td>\n",
       "      <td>1230</td>\n",
       "      <td>3.8</td>\n",
       "      <td>D</td>\n",
       "    </tr>\n",
       "    <tr>\n",
       "      <th>4</th>\n",
       "      <td>4</td>\n",
       "      <td>AUT</td>\n",
       "      <td>48.27502</td>\n",
       "      <td>14.33618</td>\n",
       "      <td>300.4</td>\n",
       "      <td>279.2</td>\n",
       "      <td>0.58</td>\n",
       "      <td>0.70</td>\n",
       "      <td>n</td>\n",
       "      <td>2020-06-01</td>\n",
       "      <td>218</td>\n",
       "      <td>1.9</td>\n",
       "      <td>N</td>\n",
       "    </tr>\n",
       "  </tbody>\n",
       "</table>\n",
       "</div>"
      ],
      "text/plain": [
       "   Unnamed: 0 country_id  latitude  longitude  bright_ti4  bright_ti5  scan  \\\n",
       "0           0        AUT  47.34311    9.62378       328.5       290.2  0.53   \n",
       "1           1        AUT  47.54527    9.78854       331.0       287.0  0.54   \n",
       "2           2        AUT  47.54559    9.78841       329.3       286.5  0.54   \n",
       "3           3        AUT  48.27758   14.34202       331.8       276.3  0.59   \n",
       "4           4        AUT  48.27502   14.33618       300.4       279.2  0.58   \n",
       "\n",
       "   track confidence    acq_date  acq_time  frp daynight  \n",
       "0   0.42          n  2020-03-01      1230  4.4        D  \n",
       "1   0.42          n  2020-03-01      1230  5.0        D  \n",
       "2   0.42          n  2020-03-01      1230  3.7        D  \n",
       "3   0.53          n  2020-03-01      1230  3.8        D  \n",
       "4   0.70          n  2020-06-01       218  1.9        N  "
      ]
     },
     "execution_count": 154,
     "metadata": {},
     "output_type": "execute_result"
    }
   ],
   "source": [
    "# url = 'https://raw.githubusercontent.com/anyawild/DS3000_Final_Project_Team2/refs/heads/main/euro_c_df_clean.csv'\n",
    "\n",
    "url = 'https://raw.githubusercontent.com/anyawild/DS3000_Final_Project_Team2/refs/heads/main/test_euro_c_df_clean.csv'\n",
    "euro_c_df_clean = pd.read_csv(url)\n",
    "euro_c_df_clean.head()"
   ]
  },
  {
   "cell_type": "markdown",
   "metadata": {},
   "source": [
    "### Checking for bright_ti4 Foldover"
   ]
  },
  {
   "cell_type": "code",
   "execution_count": 155,
   "metadata": {},
   "outputs": [
    {
     "data": {
      "text/plain": [
       "count    3781.000000\n",
       "mean      320.378328\n",
       "std        17.895367\n",
       "min       207.930000\n",
       "25%       302.830000\n",
       "50%       322.200000\n",
       "75%       335.320000\n",
       "max       367.000000\n",
       "Name: bright_ti4, dtype: float64"
      ]
     },
     "execution_count": 155,
     "metadata": {},
     "output_type": "execute_result"
    }
   ],
   "source": [
    "euro_c_df_clean['bright_ti4'].describe()"
   ]
  },
  {
   "cell_type": "code",
   "execution_count": 156,
   "metadata": {},
   "outputs": [
    {
     "data": {
      "text/plain": [
       "count    3781.00000\n",
       "mean      287.09831\n",
       "std        10.66879\n",
       "min       247.67000\n",
       "25%       280.16000\n",
       "50%       285.20000\n",
       "75%       292.90000\n",
       "max       354.27000\n",
       "Name: bright_ti5, dtype: float64"
      ]
     },
     "execution_count": 156,
     "metadata": {},
     "output_type": "execute_result"
    }
   ],
   "source": [
    "euro_c_df_clean['bright_ti5'].describe()"
   ]
  },
  {
   "cell_type": "markdown",
   "metadata": {},
   "source": [
    "When foldover occurs, bright_ti4 will have a significantly lower value than bright_ti5 near the low end of its detection threshold (~208K)."
   ]
  },
  {
   "cell_type": "code",
   "execution_count": null,
   "metadata": {},
   "outputs": [
    {
     "data": {
      "text/html": [
       "<div>\n",
       "<style scoped>\n",
       "    .dataframe tbody tr th:only-of-type {\n",
       "        vertical-align: middle;\n",
       "    }\n",
       "\n",
       "    .dataframe tbody tr th {\n",
       "        vertical-align: top;\n",
       "    }\n",
       "\n",
       "    .dataframe thead th {\n",
       "        text-align: right;\n",
       "    }\n",
       "</style>\n",
       "<table border=\"1\" class=\"dataframe\">\n",
       "  <thead>\n",
       "    <tr style=\"text-align: right;\">\n",
       "      <th></th>\n",
       "      <th>Unnamed: 0</th>\n",
       "      <th>country_id</th>\n",
       "      <th>latitude</th>\n",
       "      <th>longitude</th>\n",
       "      <th>bright_ti4</th>\n",
       "      <th>bright_ti5</th>\n",
       "      <th>scan</th>\n",
       "      <th>track</th>\n",
       "      <th>confidence</th>\n",
       "      <th>acq_date</th>\n",
       "      <th>acq_time</th>\n",
       "      <th>frp</th>\n",
       "      <th>daynight</th>\n",
       "    </tr>\n",
       "  </thead>\n",
       "  <tbody>\n",
       "    <tr>\n",
       "      <th>1980</th>\n",
       "      <td>1980</td>\n",
       "      <td>FRA</td>\n",
       "      <td>44.05268</td>\n",
       "      <td>-0.01614</td>\n",
       "      <td>207.93</td>\n",
       "      <td>308.93</td>\n",
       "      <td>0.39</td>\n",
       "      <td>0.36</td>\n",
       "      <td>l</td>\n",
       "      <td>2022-03-01</td>\n",
       "      <td>1246</td>\n",
       "      <td>61.87</td>\n",
       "      <td>D</td>\n",
       "    </tr>\n",
       "  </tbody>\n",
       "</table>\n",
       "</div>"
      ],
      "text/plain": [
       "      Unnamed: 0 country_id  latitude  longitude  bright_ti4  bright_ti5  \\\n",
       "1980        1980        FRA  44.05268   -0.01614      207.93      308.93   \n",
       "\n",
       "      scan  track confidence    acq_date  acq_time    frp daynight  \n",
       "1980  0.39   0.36          l  2022-03-01      1246  61.87        D  "
      ]
     },
     "execution_count": 157,
     "metadata": {},
     "output_type": "execute_result"
    }
   ],
   "source": [
    "# foldover occurs when bright_ti4 < bright_ti5 and bright_ti4 is near its lower threshold (~208)\n",
    "foldover_df = euro_c_df_clean[euro_c_df_clean['bright_ti4'] - euro_c_df_clean['bright_ti5'] < 0]\n",
    "foldover_df = foldover_df[foldover_df['bright_ti4'] < 220]\n",
    "foldover_df"
   ]
  },
  {
   "cell_type": "markdown",
   "metadata": {},
   "source": [
    "# Logistic Regression for Classification"
   ]
  },
  {
   "cell_type": "markdown",
   "metadata": {},
   "source": [
    "We perform logistic regression to classify fires as standard or high-intensity based on latitude, longitude, scan, track, and days since earliest data acquisition date."
   ]
  },
  {
   "cell_type": "code",
   "execution_count": 158,
   "metadata": {},
   "outputs": [],
   "source": [
    "# create binary intensity column (high = 1, standard = 0)\n",
    "euro_c_df_clean['intensity_binary'] = np.where(\n",
    "    (euro_c_df_clean['bright_ti4'] > 350) | \n",
    "    ((euro_c_df_clean['bright_ti4'] - euro_c_df_clean['bright_ti5'] < 0) & \n",
    "     (euro_c_df_clean['bright_ti4'] < 220)),\n",
    "    1,  # high-intensity: bright_ti4 > 350, OR\n",
    "        #                 bright_ti4 - bright_ti5 < 0 & bright_ti4 < 220 (foldover)\n",
    "    0   # standard-intensity: all other observations\n",
    ")\n",
    "\n",
    "# create days column\n",
    "# date -> days since earliest date\n",
    "date = euro_c_df_clean['acq_date']\n",
    "x_datetime = pd.to_datetime(date)\n",
    "reference_date = pd.Timestamp(date.min())       # earliest date, '2020-03-01'\n",
    "x_timedelta = x_datetime - reference_date\n",
    "euro_c_df_clean['days'] = x_timedelta.dt.days"
   ]
  },
  {
   "cell_type": "code",
   "execution_count": 159,
   "metadata": {},
   "outputs": [
    {
     "name": "stdout",
     "output_type": "stream",
     "text": [
      "# of Standard-Intensity Fires: 3655\n",
      "# of High-Intensity Fires: 126\n"
     ]
    }
   ],
   "source": [
    "intensity_counts = euro_c_df_clean['intensity_binary'].value_counts()\n",
    "\n",
    "print(f'# of Standard-Intensity Fires: {intensity_counts.get(0, 0)}')\n",
    "print(f'# of High-Intensity Fires: {intensity_counts.get(1, 0)}')"
   ]
  },
  {
   "cell_type": "code",
   "execution_count": 160,
   "metadata": {},
   "outputs": [
    {
     "data": {
      "image/png": "[encoded data removed]",
      "text/plain": [
       "<Figure size 640x480 with 2 Axes>"
      ]
     },
     "metadata": {},
     "output_type": "display_data"
    }
   ],
   "source": [
    "X = euro_c_df_clean[['latitude', 'longitude', 'scan', 'track', 'days']]     # feature variables\n",
    "y = euro_c_df_clean['intensity_binary']                                     # classes: standard (0), high (1)\n",
    "\n",
    "# split the dataset into training and test sets 70/30\n",
    "X_train, X_test, y_train, y_test = train_test_split(X, y, test_size=0.3)\n",
    "\n",
    "# standardize feature variables\n",
    "scaler = StandardScaler()\n",
    "X_train_scaled = scaler.fit_transform(X_train)\n",
    "X_test_scaled = scaler.transform(X_test) \n",
    "\n",
    "# train the model using standardized features\n",
    "log_reg = LogisticRegression()\n",
    "log_reg.fit(X_train_scaled, y_train)\n",
    "\n",
    "# test the model\n",
    "y_pred = log_reg.predict(X_test_scaled)\n",
    "\n",
    "# assess model accuracy using confusion/classification matrix\n",
    "conf_matrix = confusion_matrix(y_test, y_pred)\n",
    "\n",
    "# visualize confusion matrix\n",
    "disp = ConfusionMatrixDisplay(confusion_matrix=conf_matrix, display_labels=['Standard Intensity', 'High Intensity'])\n",
    "disp.plot(cmap='Reds')\n",
    "plt.title('Fire Intensity Confusion Matrix')\n",
    "plt.show()"
   ]
  },
  {
   "cell_type": "markdown",
   "metadata": {},
   "source": [
    "The model consistently predicts only standard-intensity for all test samples. This behavior is likely caused by a class imbalance in the dataset, where the majority class (standard-intensity fires, n=3655) dominates, causing the model to ignore the minority class (high-intensity fires, n=126). This imbalance biases the model toward standard-intensity fires, resulting in a lack of predictive power for high-intensity fires."
   ]
  }
 ],
 "metadata": {
  "kernelspec": {
   "display_name": "Python 3",
   "language": "python",
   "name": "python3"
  },
  "language_info": {
   "codemirror_mode": {
    "name": "ipython",
    "version": 3
   },
   "file_extension": ".py",
   "mimetype": "text/x-python",
   "name": "python",
   "nbconvert_exporter": "python",
   "pygments_lexer": "ipython3",
   "version": "3.12.4"
  }
 },
 "nbformat": 4,
 "nbformat_minor": 2
}
