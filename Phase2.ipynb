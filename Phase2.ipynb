{
 "cells": [
  {
   "cell_type": "markdown",
   "id": "17bf9306-6d4d-443e-acb4-c4abe0096109",
   "metadata": {},
   "source": [
    "# Phase 2 DS3000 Project\n",
    "\n",
    "## Group Members: Anya Wild, Janina Kurowski, Michael Hrinda, Elana von der Heyden"
   ]
  },
  {
   "cell_type": "markdown",
   "id": "24b82003-9a0f-42f7-8a96-a6188af293cb",
   "metadata": {},
   "source": [
    "### Project Phase 1\n",
    "\n",
    "In the last few years, wildfires have starting popping up in Europe in several countries, and has ravaged many homes and land. The fires post an economic, health, and safety threat to families and individuals, and are likely an indicator of increasing global temperatures and underlying climate change.\n",
    "\n",
    "[NASA Fire Information for Resource Management System (FIRMS)](https://www.earthdata.nasa.gov/learn/find-data/near-real-time/firms/viirs-i-band-375-m-active-fire-data) uses Visible Infrared Imaging Radiometer Suite (VIIRS) 375 m imaging to capture fires as they happen worldwide, and publishes the data for public access with the use of an API key. Although there are other sensors that NASA uses concurrently, we dicded the VIIRS software is the most accurate and up-to-date, and would servce us best for this project. \n",
    "\n",
    "![Comparison of daily fire spread mapped by 1km Aqua/MODIS (left), 750m VIIRS (center) and 375m VIIRS (right) data](https://www.earthdata.nasa.gov/s3fs-public/imported/Brazil_MODIS_VIIRS_1.jpg?VersionId=GCOBEkFW7SVYsKIwwssJrV_MtjTopKdn)\n",
    "\n",
    "Pictured above is a comparison of daily fire spread mapped by 1km Aqua/MODIS (left), 750m VIIRS (center) and 375m VIIRS (right) data. As you can see, the 375m VIIRS data provides the most detailed image and coherent fire spread compared to MODIS and 750m VIIRS imaging.\n",
    "\n",
    "Using longitudinal/latitudinal features and other features of the data published, it would be possible to use machine learning to attempt to predict where new wildfires might start.\n",
    "\n",
    "\n",
    "[Hundreds of firefighters battle a deadly forest fire raging in southern Greece for the third day (AP News)](https://apnews.com/article/greece-wildfire-peloponnese-forest-cfeb415e491edbdce660490bae5aeb3f)\n",
    "\n",
    "[Europe's wildfires in 2023 were among the worst this century, report says (Reuters)](https://www.reuters.com/world/europe/europes-wildfires-2023-were-among-worst-this-century-report-says-2024-04-10/)\n",
    "\n",
    "\n",
    "The data contains the following features:\n",
    "\n",
    "- longitude (numeric)\n",
    "- latitude (numeric)\n",
    "- brightness (numeric) - this represents the intensity of the fire (e.g. higher = more intense fire)\n",
    "- confidence (numeric) - this represents the confidence for a pixel from the images accurately detecting an active fire\n",
    "- scan (numeric) - represents the approximate size of the imaged fire\n",
    "- satellite (categorical) (either collected via Aqua or Terra satellite)\n",
    "- acq_date and acq_time (date & time) - could be useful for understanding wildfire detection throughout the year and how trends might change seasonally\n"
   ]
  },
  {
   "cell_type": "markdown",
   "id": "02d0cb18-1e93-44c0-b066-417e861e4732",
   "metadata": {},
   "source": [
    "### Interesting questions may include:\n",
    "- Where are wildfires most likely to occur? Is there one area that wildfires tend to cluster in occurence?\n",
    "- Would it be possible to predict approximate wildfire locations based on certain features of the data, such as scan, longitude, latitude, and brightness?\n",
    "- Is either the Terra or Aqua satellite more accurate in capturing wildfire location based on confidence rating?\n",
    "- Are wildfires more common during certain times of the year? can we predict wildfire location and severity based on the time of year?"
   ]
  },
  {
   "cell_type": "markdown",
   "id": "8dcf97cb-6334-4647-b9fa-3e15f9786c0d",
   "metadata": {},
   "source": [
    "### Possible ML uses:\n",
    "For exploring the questions above, there are a couple of different ML concepts that may be applicable. For understanding wildfire 'hotspots', K-means clustering could possibly be used to help identify patterns in the data points. Time series analysis could be used for understanding and predicting the seasonality of wildfires. Regression could also be used to understand if geographical location / territory affects fire intensity (brightness) and whether that could be used to predict fire intensity. "
   ]
  },
  {
   "cell_type": "markdown",
   "id": "8f5d86f8-82f1-494c-9a30-56e08629b6c6",
   "metadata": {},
   "source": [
    "# Testing pushing to repository from VSCode"
   ]
  }
 ],
 "metadata": {
  "kernelspec": {
   "display_name": "Python 3 (ipykernel)",
   "language": "python",
   "name": "python3"
  },
  "language_info": {
   "codemirror_mode": {
    "name": "ipython",
    "version": 3
   },
   "file_extension": ".py",
   "mimetype": "text/x-python",
   "name": "python",
   "nbconvert_exporter": "python",
   "pygments_lexer": "ipython3",
   "version": "3.12.2"
  }
 },
 "nbformat": 4,
 "nbformat_minor": 5
}
